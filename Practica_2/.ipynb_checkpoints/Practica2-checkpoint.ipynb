{
 "cells": [
  {
   "cell_type": "markdown",
   "metadata": {},
   "source": [
    "# Funciones listas y tuplas\n",
    "\n",
    "## Responda las siguientes Preguntas"
   ]
  },
  {
   "cell_type": "markdown",
   "metadata": {},
   "source": [
    "### Funciones\n",
    "\n",
    "* ¿Por qué son ventajosas las funciones para tener en sus programas?\n",
    "\n",
    "Por que puedes asignar en una función variables locales y globales, que reciben argumentos y devuelven valores que los puedes utilizar en otra función.\n",
    "\n",
    "* ¿Cuándo se ejecuta el código en una función: cuando se define la función o cuando se llama a la función?\n",
    "\n",
    "Cuando se llama a la función.\n",
    "\n",
    "* ¿Qué enunciado crea una función?\n",
    "\n",
    "```\n",
    "def function(argumentos):\n",
    "    \n",
    "    return\n",
    "```\n",
    "\n",
    "* ¿Cuál es la diferencia entre una función y una llamada de función?\n",
    "\n",
    "La función es la que tu defines con un cierto argumento que tendra variables globales o locales y si tu la ejecutas sin llamarla, no te regresara nada ya que solo la estas definiendo pero no le dices a python que te imprima lo que tiene entonces por eso es que cuando la llamas estas indicando que se ejecute la función y te devuelva su resultado, un valor.\n",
    "\n",
    "* ¿Cuántos ámbitos globales hay en un programa de Python? ¿Cuántos ámbitos locales?\n",
    "Los ambitos locales son todas las variables que se encuentran dentro de la función definida y los ambitos globales son las variables definidas fuera de la función.\n",
    "\n",
    "* ¿Qué sucede con las variables en un ámbito local cuando se devuelve la llamada a la función?\n",
    "\n",
    "Se ejecuta la función usando la variable global, y si es el caso en el que el argumento de la función determina que se imprima la variable local entonces se puede imprimir co print('variable local')\n",
    "\n",
    "* ¿Qué es un valor de retorno? ¿Puede un valor de retorno ser parte de una expresión?\n",
    "\n",
    "Un valor de retorno es un valor que esta dentro de la definición de una función el cual tiene que ser almacenado en una varibale global para despues imprimirlo llamando a la variable global que contiene a la función y esta contiene al valor de retorno.\n",
    "\n",
    "\n",
    "* Si una función no tiene una declaración de retorno, ¿cuál es el valor de retorno de una llamada a esa función?. \n",
    "\n",
    "Se tiene que determinar dentro de la función con print('valor de retorno') y despues mandar a llamar a la funcion()\n",
    "\n",
    "* ¿Cómo puede forzar una variable en una función para referirse a la variable global?\n",
    "\n",
    "Almacenando la función en una variable global.\n",
    "\n",
    "* ¿Cuál es el tipo de datos de ```None```?\n",
    "\n",
    "None es un objeto de tipo NoneType, que se expresa cuando una función no regresa una variable de acuerdo con el código. \n",
    "\n",
    "\n",
    "* ¿Qué hace la declaración ```import random```?\n",
    "\n",
    "Importas una libreria llamada random la cual a mandarla a llamar te regresa un número al azar y le puedes asociar un rango de numeros del cual te regrese un número al azar. \n",
    "\n",
    "* Si tuviera una función llamada ```randint()``` en un módulo llamado ```random```, ¿cómo lo llamaría después de importar ```random```?\n",
    "\n",
    "Dandole un valor global y mandarlo a llamar sólo imprimiento este valor global.\n",
    "\n",
    "r = random.randint(1, 9)\n",
    "r\n",
    "9\n"
   ]
  },
  {
   "cell_type": "markdown",
   "metadata": {},
   "source": [
    "### Lista y tuplas\n",
    "* ¿Qué es ```[]```?\n",
    "\n",
    "Es la manera de definir a una lista.\n",
    "\n",
    "* ¿Cómo asignaría el valor ```'hola'``` como el tercer valor en una lista almacenada? en una variable llamada spam? (Supongamos que el ```spam``` contiene ```[2, 4, 6, 8, 10]```.) Para las siguientes tres preguntas, digamos que ```spam``` contiene la lista ```[2, 4, 6, 8, 10]```.\n",
    "\n",
    "```spam = [2, 4, 6, 8, 10] ```\n",
    "```spam.insert(3,\"hola\") ``` el 3, es el tercer valor de la lista y hola es el valor que queremos asignar.\n",
    "\n",
    "* ¿Qué evalúa ```spam[int ('3' * 2) / 11]```?\n",
    "\n",
    "Evalúa la multiplicación de (3*2) y lo divide entre 11, el hace parametro int , convierte este valor en integer object de tipo entero. \n",
    "\n",
    "* ¿Qué evalúa ```spam[-1]```?\n",
    "\n",
    "El último valor de la lista\n",
    "\n",
    "* ¿Qué evalúa el ```spam[: 2]```?\n",
    "\n",
    "Los valores 0 y 1 de la lista.\n",
    "\n",
    "Para las siguientes tres preguntas, digamos que ```bacon``` contiene la lista ```[3.14, 'cat', 11, 'cat', True]```.\n",
    "\n",
    "* ¿Qué evalúa ```bacon.index('cat')```?\n",
    "\n",
    "Evalúa la posición de 'cat' que es 1.\n",
    "\n",
    "* ¿Qué evalúa ```bacon.append(99)```?\n",
    "\n",
    "Añade el valor 99 al final de la lista.\n",
    "\n",
    "* ¿Qué hace ```bacon.remove('cat')```?\n",
    "\n",
    "Quita 'cat' de la lista.\n",
    "\n",
    "* ¿Cuáles son los operadores para la concatenación de listas y la replicación de listas?\n",
    "\n",
    "Para concatenar se utiliza el operador suma + y para replicar se utiliza el operador multiplicación *\n",
    "\n",
    "* ¿Cuál es la diferencia entre los métodos de lista ```append()``` e ```insert()```?\n",
    "\n",
    "```append()``` añade un simbolo o valor al final de la lista e ```insert()``` añade en una posicion determinada el valor o simbolo a la lista.\n",
    "\n",
    "* ¿Cuál es la diferencia entre listas y tuplas?\n",
    "            \n",
    "En las listas se pueden modificar sus valores y la tupla es inmutable."
   ]
  },
  {
   "cell_type": "markdown",
   "metadata": {},
   "source": [
    "### Proyecto Práctico \n",
    "\n",
    "Códifique las siguiente funciones:"
   ]
  },
  {
   "cell_type": "markdown",
   "metadata": {},
   "source": [
    "* ```testPrime()``` que verifique si un número es primo.\n",
    "* ```prime()``` que genere los primos menores o iguales que $n \\in \\mathbb{I}\\mathbb{N}$.\n",
    "* ```twinPrime()``` que regrese una tupla con los primos gemelos  menores o iguales que $n \\in \\mathbb{I}\\mathbb{N}$.\n",
    "* ```theoremArihtmetic()``` que regrese una lista con la descomposión en potencias de primos para cualquier $n \\in \\mathbb{I}\\mathbb{N}$. #arreglo para hacer diviciones de mi numero que ya tengo con los primos, hacer un contador ej. 25 es divisible or 3  3 veces y hacer en contador de cuantas veces es divicible, minimo comun multiplo\n",
    "\n",
    "* ```mcm()``` que regrese el mínimo común multiplo de dos enteros.\n",
    "* ```MCD()``` que regrese el máximo común divisor de dos enteros."
   ]
  },
  {
   "cell_type": "code",
   "execution_count": 199,
   "metadata": {},
   "outputs": [],
   "source": [
    "#numero primo es solo divisible entre 1 y el mismo, el 1 queda excluido del conjunto de los #primos\n",
    "\n",
    "def testPrime(x): #definimos la función testPrime\n",
    "    if x % 2 == 0: #damos la condicion de que si al dividir el numero x su residuo es 0 entonces es un numero par\n",
    "        print (\"este numero es par\")\n",
    "    elif x % 2 != 0: #damos la condicion de que si al dividir el numero x su residuo es distinto de 0 entonces es un numero inpar\n",
    "        print (\"este numero es inpar\")\n",
    "\n",
    "        \n",
    "\n",
    " "
   ]
  },
  {
   "cell_type": "code",
   "execution_count": 465,
   "metadata": {},
   "outputs": [
    {
     "name": "stdout",
     "output_type": "stream",
     "text": [
      "este numero es inpar\n"
     ]
    }
   ],
   "source": [
    "x = 15   \n",
    "testPrime(x)\n"
   ]
  },
  {
   "cell_type": "code",
   "execution_count": 481,
   "metadata": {},
   "outputs": [],
   "source": [
    "\n",
    "def noprime(n):\n",
    "    a = 0\n",
    "    for i in range(1,n):\n",
    "\n",
    "        if(n % i == 0):\n",
    "\n",
    "            # Si se puede dividir por algun numero mas de una vez, no es primo\n",
    "            a += 1  # a = a+1 = 0+1 = 1\n",
    "\n",
    "            if a > 1:\n",
    "                return False\n",
    "        \n",
    "    return True #es un primo\n",
    "\n",
    "\n",
    "def prime(n):\n",
    "    for i in range(1,n):\n",
    "        if noprime(i):\n",
    "            print (i)\n",
    "\n",
    "            \n",
    "\n",
    "\n",
    "    \n",
    "    \n",
    "    "
   ]
  },
  {
   "cell_type": "code",
   "execution_count": 482,
   "metadata": {},
   "outputs": [
    {
     "name": "stdout",
     "output_type": "stream",
     "text": [
      "1\n",
      "2\n",
      "3\n",
      "5\n",
      "7\n",
      "11\n",
      "13\n",
      "17\n",
      "19\n"
     ]
    }
   ],
   "source": [
    "prime(20)"
   ]
  },
  {
   "cell_type": "code",
   "execution_count": 519,
   "metadata": {},
   "outputs": [],
   "source": [
    "def fun(n):\n",
    "    prime (n)\n",
    "    print (prime(n))\n"
   ]
  },
  {
   "cell_type": "code",
   "execution_count": 527,
   "metadata": {},
   "outputs": [
    {
     "name": "stdout",
     "output_type": "stream",
     "text": [
      "1\n",
      "2\n",
      "3\n",
      "1\n",
      "2\n",
      "3\n",
      "None\n",
      "1\n",
      "2\n",
      "3\n",
      "1\n",
      "2\n",
      "3\n",
      "None\n"
     ]
    },
    {
     "ename": "TypeError",
     "evalue": "'NoneType' object is not subscriptable",
     "output_type": "error",
     "traceback": [
      "\u001b[0;31m---------------------------------------------------------------------------\u001b[0m",
      "\u001b[0;31mTypeError\u001b[0m                                 Traceback (most recent call last)",
      "\u001b[0;32m<ipython-input-527-a980040f2829>\u001b[0m in \u001b[0;36m<module>\u001b[0;34m\u001b[0m\n\u001b[1;32m      1\u001b[0m \u001b[0mfun\u001b[0m \u001b[0;34m(\u001b[0m\u001b[0;36m5\u001b[0m\u001b[0;34m)\u001b[0m\u001b[0;34m\u001b[0m\u001b[0m\n\u001b[0;32m----> 2\u001b[0;31m \u001b[0ma\u001b[0m \u001b[0;34m=\u001b[0m \u001b[0mprint\u001b[0m\u001b[0;34m(\u001b[0m\u001b[0mfun\u001b[0m \u001b[0;34m(\u001b[0m\u001b[0;36m5\u001b[0m\u001b[0;34m)\u001b[0m\u001b[0;34m[\u001b[0m\u001b[0;36m0\u001b[0m\u001b[0;34m]\u001b[0m\u001b[0;34m)\u001b[0m\u001b[0;34m\u001b[0m\u001b[0m\n\u001b[0m",
      "\u001b[0;31mTypeError\u001b[0m: 'NoneType' object is not subscriptable"
     ]
    }
   ],
   "source": [
    "fun (5)\n",
    "a = print(fun (5)[0])"
   ]
  },
  {
   "cell_type": "code",
   "execution_count": null,
   "metadata": {},
   "outputs": [],
   "source": []
  },
  {
   "cell_type": "code",
   "execution_count": 498,
   "metadata": {},
   "outputs": [],
   "source": [
    "def mcm(x, y):\n",
    "    if x > y:\n",
    "        Mayor = x\n",
    "    else:\n",
    "        Mayor = y\n",
    "        \n",
    "    while(True):\n",
    "        if((Mayor % x == 0) and (Mayor % y == 0)):\n",
    "            mcm = Mayor\n",
    "            break\n",
    "        Mayor += 1\n",
    "    return mcm"
   ]
  },
  {
   "cell_type": "code",
   "execution_count": 500,
   "metadata": {},
   "outputs": [
    {
     "data": {
      "text/plain": [
       "4"
      ]
     },
     "execution_count": 500,
     "metadata": {},
     "output_type": "execute_result"
    }
   ],
   "source": [
    "mcm(2,4)"
   ]
  },
  {
   "cell_type": "code",
   "execution_count": 512,
   "metadata": {},
   "outputs": [],
   "source": [
    "def MCD(x, y):\n",
    "    r = 0\n",
    "    while(y > 0):\n",
    "        r == y\n",
    "        y = x % y\n",
    "        x = r\n",
    "    return x"
   ]
  },
  {
   "cell_type": "code",
   "execution_count": 515,
   "metadata": {},
   "outputs": [
    {
     "data": {
      "text/plain": [
       "0"
      ]
     },
     "execution_count": 515,
     "metadata": {},
     "output_type": "execute_result"
    }
   ],
   "source": [
    "MCD(1000,1)"
   ]
  },
  {
   "cell_type": "code",
   "execution_count": null,
   "metadata": {},
   "outputs": [],
   "source": [
    "def mcd(a, b):\n",
    "\n",
    "\tresto = 0\n",
    "\n",
    "\twhile(b > 0):\n",
    "\n",
    "\t\tresto = b\n",
    "\n",
    "\t\tb = a % b\n",
    "\n",
    "\t\ta = resto\n",
    "\n",
    "\treturn a\n",
    "\n",
    " "
   ]
  }
 ],
 "metadata": {
  "kernelspec": {
   "display_name": "Python 3",
   "language": "python",
   "name": "python3"
  },
  "language_info": {
   "codemirror_mode": {
    "name": "ipython",
    "version": 3
   },
   "file_extension": ".py",
   "mimetype": "text/x-python",
   "name": "python",
   "nbconvert_exporter": "python",
   "pygments_lexer": "ipython3",
   "version": "3.5.2"
  }
 },
 "nbformat": 4,
 "nbformat_minor": 2
}
