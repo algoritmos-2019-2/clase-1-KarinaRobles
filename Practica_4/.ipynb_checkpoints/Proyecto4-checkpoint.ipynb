{
 "cells": [
  {
   "cell_type": "markdown",
   "metadata": {},
   "source": [
    "# El helecho de Barsnsley\n",
    "El helecho de Barsnsley es el resultado de iterar la siguiente función\n",
    "\n",
    "\\begin{equation}\n",
    "   F(x,y)=\\begin{pmatrix} \n",
    "a & b \\\\\n",
    "c & d \n",
    "\\end{pmatrix}\n",
    "\\begin{pmatrix} \n",
    "x  \\\\\n",
    "y  \n",
    "\\end{pmatrix} + \\begin{pmatrix} \n",
    "e \\\\\n",
    "f\n",
    "\\end{pmatrix}\n",
    "\\end{equation}\n",
    "\n",
    "La cual está definida por casos, y estos dependen de un probalidad $p$\n",
    " \n",
    "| $a$ | $b$ |  $c$ | $d$ | $e$ | $f$ |  $p$  |\n",
    "|-----|:---:|-----:|-----|:---:|----:|------:|\n",
    "|  0  |  0  |   0  | 0.16|  0  |  0  |  $0.01$ |\n",
    "| 0.85| 0.04| -0.04| 0.85|  0  | 1.60|$[0.02,0.86]$|\n",
    "| 0.20|-0.26| 0.23 | 0.22|  0  | 1.60|$[0.87,0.93]$|\n",
    "|-0.15| 0.28| 0.26 | 0.24|  0  | 0.44|$[0.94,1.00]$|"
   ]
  },
  {
   "cell_type": "markdown",
   "metadata": {},
   "source": [
    "Usando el objeto ```matrix``` de ```numpy``` defina una llamada ```F(lista1, lista2)``` que reciba justo dos argumentos, el primer debe ser una lista con los variables $x$ y $y$. Y el segundo argumento debe ser una seguda lista con los coeficientes ($a, b, \\dots , e$).\n",
    "\n",
    "La funcion ```F()``` debe de convertir las repesctivas entradas para que se puedan realizar las repectivas operaciones de matrices. "
   ]
  },
  {
   "cell_type": "code",
   "execution_count": 16,
   "metadata": {},
   "outputs": [],
   "source": [
    "from numpy import *\n",
    "from random import randint\n",
    "\n",
    "\n",
    "\n",
    "def fun_1(lista1,lista2):\n",
    "    a = array(lista1).reshape(2,1) #reshape es para poner el numero de columnas y filas de una matriz.\n",
    "    b = array(lista2[:4]).reshape(2,2)\n",
    "    c = array(lista2[4:]).reshape(2,1)\n",
    "    d = ((a*b) + c )\n",
    "    print (d)\n",
    "    return\n",
    "      \n",
    "\n",
    "\n"
   ]
  },
  {
   "cell_type": "code",
   "execution_count": 17,
   "metadata": {},
   "outputs": [
    {
     "name": "stdout",
     "output_type": "stream",
     "text": [
      "[[ 8 11]\n",
      " [18 22]]\n"
     ]
    }
   ],
   "source": [
    "lista1 = [3,4]\n",
    "lista2 = [1,2,3,4,5,6]\n",
    "\n",
    "fun_1(lista1,lista2)"
   ]
  },
  {
   "cell_type": "markdown",
   "metadata": {},
   "source": [
    "Codifique una segunda función llamada ```volado(n)``` de tal manera que asigne los repectivo valores de los coeficientes para casa valor de $p$. "
   ]
  },
  {
   "cell_type": "code",
   "execution_count": 18,
   "metadata": {},
   "outputs": [],
   "source": [
    "\n",
    "def volado(p):\n",
    "    if p == 0.01:\n",
    "        return [0,0,0,0.16,0,0]\n",
    "    elif 0.02 <= p <= 0.86:\n",
    "        return ([0.85,0.04,-0.04,0.85,0,1.60])\n",
    "    elif 0.87 <= p <= 00.93:\n",
    "        return ([0.20,-0.26,0.23,0.22,0,1.60])\n",
    "    elif 0.94 <= p <= 1.00:\n",
    "        return ([-0.15,0.28,0.26,0.24,0,0.44])\n",
    "    else:\n",
    "        return(\"no existe esta probabilidad\")\n",
    "        \n",
    "        "
   ]
  },
  {
   "cell_type": "code",
   "execution_count": 19,
   "metadata": {},
   "outputs": [
    {
     "data": {
      "text/plain": [
       "[0.85, 0.04, -0.04, 0.85, 0, 1.6]"
      ]
     },
     "execution_count": 19,
     "metadata": {},
     "output_type": "execute_result"
    }
   ],
   "source": [
    "volado(0.03)"
   ]
  },
  {
   "cell_type": "markdown",
   "metadata": {},
   "source": [
    "Por último para generar el helecho, defina una función ```Barsnsley(n)``` que reciba el número de iteraciones $n$ y regrese dos lista con salidas de la función $F(x,y)$. También tome en cuenta los siguiente:\n",
    "\n",
    "* La primer iteración debe de recibir como entrada de $F(x,y)$ el punto $x=0$ y $y=0$.\n",
    "* En cada iteración de debe generar los coefientes de manera aleatoria, usando la función ```volado(n)```, es decir ```n``` debe ser un numero aleatorio. Para generar números aleatorios puede importar ```randint``` de la paquetería ramdom ```from random import randint```"
   ]
  },
  {
   "cell_type": "code",
   "execution_count": 36,
   "metadata": {},
   "outputs": [
    {
     "name": "stdout",
     "output_type": "stream",
     "text": [
      "[-0.15, 0.28, 0.26, 0.24, 0, 0.44]\n"
     ]
    }
   ],
   "source": [
    "n = random.randint(-2, 2)\n",
    "lista2 = volado(n)\n",
    "\n",
    "print (lista2)\n",
    "\n",
    "def Barsnley(ite):\n",
    "    \n",
    "    lista2 = volado(n)\n",
    "    \n",
    "    fun_1 (lista1, lista2)\n",
    "    \n",
    "    print (lista1)\n",
    "    \n",
    "    \n",
    "    \n",
    "  \n",
    "\n",
    "    \n",
    "    \n",
    "    "
   ]
  },
  {
   "cell_type": "code",
   "execution_count": 29,
   "metadata": {},
   "outputs": [
    {
     "ename": "ValueError",
     "evalue": "cannot reshape array of size 1 into shape (2,2)",
     "output_type": "error",
     "traceback": [
      "\u001b[0;31m---------------------------------------------------------------------------\u001b[0m",
      "\u001b[0;31mValueError\u001b[0m                                Traceback (most recent call last)",
      "\u001b[0;32m<ipython-input-29-987de7f755a0>\u001b[0m in \u001b[0;36m<module>\u001b[0;34m()\u001b[0m\n\u001b[0;32m----> 1\u001b[0;31m \u001b[0mBarsnley\u001b[0m\u001b[0;34m(\u001b[0m\u001b[0;36m5\u001b[0m\u001b[0;34m)\u001b[0m\u001b[0;34m\u001b[0m\u001b[0;34m\u001b[0m\u001b[0m\n\u001b[0m",
      "\u001b[0;32m<ipython-input-28-de5c5b888772>\u001b[0m in \u001b[0;36mBarsnley\u001b[0;34m(ite)\u001b[0m\n\u001b[1;32m      5\u001b[0m     \u001b[0mlista2\u001b[0m \u001b[0;34m=\u001b[0m \u001b[0mvolado\u001b[0m\u001b[0;34m(\u001b[0m\u001b[0mn\u001b[0m\u001b[0;34m)\u001b[0m\u001b[0;34m\u001b[0m\u001b[0;34m\u001b[0m\u001b[0m\n\u001b[1;32m      6\u001b[0m \u001b[0;34m\u001b[0m\u001b[0m\n\u001b[0;32m----> 7\u001b[0;31m     \u001b[0mfun_1\u001b[0m \u001b[0;34m(\u001b[0m\u001b[0mlista1\u001b[0m\u001b[0;34m,\u001b[0m \u001b[0mlista2\u001b[0m\u001b[0;34m)\u001b[0m\u001b[0;34m\u001b[0m\u001b[0;34m\u001b[0m\u001b[0m\n\u001b[0m\u001b[1;32m      8\u001b[0m \u001b[0;34m\u001b[0m\u001b[0m\n\u001b[1;32m      9\u001b[0m     \u001b[0mprint\u001b[0m \u001b[0;34m(\u001b[0m\u001b[0mlista1\u001b[0m\u001b[0;34m)\u001b[0m\u001b[0;34m\u001b[0m\u001b[0;34m\u001b[0m\u001b[0m\n",
      "\u001b[0;32m<ipython-input-16-3497c283f49d>\u001b[0m in \u001b[0;36mfun_1\u001b[0;34m(lista1, lista2)\u001b[0m\n\u001b[1;32m      6\u001b[0m \u001b[0;32mdef\u001b[0m \u001b[0mfun_1\u001b[0m\u001b[0;34m(\u001b[0m\u001b[0mlista1\u001b[0m\u001b[0;34m,\u001b[0m\u001b[0mlista2\u001b[0m\u001b[0;34m)\u001b[0m\u001b[0;34m:\u001b[0m\u001b[0;34m\u001b[0m\u001b[0;34m\u001b[0m\u001b[0m\n\u001b[1;32m      7\u001b[0m     \u001b[0ma\u001b[0m \u001b[0;34m=\u001b[0m \u001b[0marray\u001b[0m\u001b[0;34m(\u001b[0m\u001b[0mlista1\u001b[0m\u001b[0;34m)\u001b[0m\u001b[0;34m.\u001b[0m\u001b[0mreshape\u001b[0m\u001b[0;34m(\u001b[0m\u001b[0;36m2\u001b[0m\u001b[0;34m,\u001b[0m\u001b[0;36m1\u001b[0m\u001b[0;34m)\u001b[0m \u001b[0;31m#reshape es para poner el numero de columnas y filas de una matriz.\u001b[0m\u001b[0;34m\u001b[0m\u001b[0;34m\u001b[0m\u001b[0m\n\u001b[0;32m----> 8\u001b[0;31m     \u001b[0mb\u001b[0m \u001b[0;34m=\u001b[0m \u001b[0marray\u001b[0m\u001b[0;34m(\u001b[0m\u001b[0mlista2\u001b[0m\u001b[0;34m[\u001b[0m\u001b[0;34m:\u001b[0m\u001b[0;36m4\u001b[0m\u001b[0;34m]\u001b[0m\u001b[0;34m)\u001b[0m\u001b[0;34m.\u001b[0m\u001b[0mreshape\u001b[0m\u001b[0;34m(\u001b[0m\u001b[0;36m2\u001b[0m\u001b[0;34m,\u001b[0m\u001b[0;36m2\u001b[0m\u001b[0;34m)\u001b[0m\u001b[0;34m\u001b[0m\u001b[0;34m\u001b[0m\u001b[0m\n\u001b[0m\u001b[1;32m      9\u001b[0m     \u001b[0mc\u001b[0m \u001b[0;34m=\u001b[0m \u001b[0marray\u001b[0m\u001b[0;34m(\u001b[0m\u001b[0mlista2\u001b[0m\u001b[0;34m[\u001b[0m\u001b[0;36m4\u001b[0m\u001b[0;34m:\u001b[0m\u001b[0;34m]\u001b[0m\u001b[0;34m)\u001b[0m\u001b[0;34m.\u001b[0m\u001b[0mreshape\u001b[0m\u001b[0;34m(\u001b[0m\u001b[0;36m2\u001b[0m\u001b[0;34m,\u001b[0m\u001b[0;36m1\u001b[0m\u001b[0;34m)\u001b[0m\u001b[0;34m\u001b[0m\u001b[0;34m\u001b[0m\u001b[0m\n\u001b[1;32m     10\u001b[0m     \u001b[0md\u001b[0m \u001b[0;34m=\u001b[0m \u001b[0;34m(\u001b[0m\u001b[0;34m(\u001b[0m\u001b[0ma\u001b[0m\u001b[0;34m*\u001b[0m\u001b[0mb\u001b[0m\u001b[0;34m)\u001b[0m \u001b[0;34m+\u001b[0m \u001b[0mc\u001b[0m \u001b[0;34m)\u001b[0m\u001b[0;34m\u001b[0m\u001b[0;34m\u001b[0m\u001b[0m\n",
      "\u001b[0;31mValueError\u001b[0m: cannot reshape array of size 1 into shape (2,2)"
     ]
    }
   ],
   "source": [
    "Barsnley(5)"
   ]
  },
  {
   "cell_type": "markdown",
   "metadata": {},
   "source": [
    "Ahora grafique las salidas de ```Barsnsley``` (xs,ys) para ello importe ```import matplotlib.pyplot as plt``` y grafique usando.\n",
    "```plt.scatter(xs, ys, s = 0.2, edgecolor ='green')```\n",
    "\n",
    "El resultado tiene que la siguiente imagen"
   ]
  },
  {
   "cell_type": "code",
   "execution_count": null,
   "metadata": {},
   "outputs": [],
   "source": [
    "plt.scatter(xs, ys, s = 0.2, edgecolor ='green')"
   ]
  },
  {
   "cell_type": "markdown",
   "metadata": {},
   "source": [
    "<img src=\"helecho.png\"\n",
    "     alt=\"Markdown Monster icon\"\n",
    "     style=\"float: left; margin-right: 10px;\" />"
   ]
  },
  {
   "cell_type": "markdown",
   "metadata": {},
   "source": [
    "¿Qué pasa si ahora usa los siguientes parametros?\n",
    " \n",
    "| $a$ | $b$ |  $c$ | $d$ |  $e$ | $f$ |  $p$  |\n",
    "|-----|:---:|-----:|-----|:----:|----:|------:|\n",
    "|  0  |  0  |   0  | 0.25|  0   |-0.4 |$[0.00,0.02]$|\n",
    "| 0.95|0.005|-0.005| 0.93|-0.002| 0.5 |$[0.03,0.85]$|\n",
    "|0.035| -0.2| 0.16 | 0.04| -0.09| 0.02|$[0.86,0.93]$|\n",
    "|-0.04| 0.2 | 0.16 | 0.04|-0.083| 0.12|$[0.94,1.00]$|"
   ]
  },
  {
   "cell_type": "markdown",
   "metadata": {},
   "source": [
    "Ahora modifique ```Barsnsley``` tal que los datos generados se guarden en una Barsnsley.txt. \n",
    "\n",
    "Define una funcíon ```rotation(theta, vector)``` tal que rote un vector $\\vec{v}$ por un ángulo $\\theta$. Recordemos que las matrices de rotación son de la forma:\n",
    "\n",
    "$$ R(\\theta) = \\begin{pmatrix} \n",
    "\\cos(\\theta) & -\\sin(\\theta) \\\\\n",
    "\\sin(\\theta) & \\cos(\\theta)\n",
    "\\end{pmatrix}$$"
   ]
  },
  {
   "cell_type": "markdown",
   "metadata": {},
   "source": [
    "Con experimento numéricos responda las siguientes:\n",
    "* ¿Cómo tiene que ser $\\theta$ para tener rotaciones en el sentido levógiro?, ¿cómo es el determinate?\n",
    "* ¿Ahora cómo tiene que ser $\\theta$ para que las rotaciones sean en sentido dextrógiro?, ¿cómo es el determinante? "
   ]
  },
  {
   "cell_type": "markdown",
   "metadata": {},
   "source": [
    "Ahora sí, por último implemente una función que le aplique una rotación por una ángulo $\\theta$ a cada elemneto de Barsnsley.txt y grafique el resultado."
   ]
  },
  {
   "cell_type": "code",
   "execution_count": null,
   "metadata": {},
   "outputs": [],
   "source": []
  }
 ],
 "metadata": {
  "kernelspec": {
   "display_name": "Python 3",
   "language": "python",
   "name": "python3"
  },
  "language_info": {
   "codemirror_mode": {
    "name": "ipython",
    "version": 3
   },
   "file_extension": ".py",
   "mimetype": "text/x-python",
   "name": "python",
   "nbconvert_exporter": "python",
   "pygments_lexer": "ipython3",
   "version": "3.6.7"
  }
 },
 "nbformat": 4,
 "nbformat_minor": 2
}
