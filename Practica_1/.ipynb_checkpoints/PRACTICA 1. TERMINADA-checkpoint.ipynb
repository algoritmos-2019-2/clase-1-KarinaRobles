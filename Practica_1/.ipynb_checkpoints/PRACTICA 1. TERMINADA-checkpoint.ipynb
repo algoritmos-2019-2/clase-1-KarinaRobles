{
 "cells": [
  {
   "cell_type": "markdown",
   "metadata": {},
   "source": [
    "# Practica 1\n",
    "\n",
    "### *Karina Robles Martínez*\n",
    "\n",
    "\n",
    "\n",
    "\n"
   ]
  },
  {
   "cell_type": "markdown",
   "metadata": {},
   "source": [
    "* ¿Cuáles son los dos valores del tipo de datos booleano? ¿Cómo se escriben?\n",
    "\n",
    "False (falso)\n",
    "\n",
    "True  (verdadero)\n",
    " \n",
    "\n",
    "* ¿Cuáles son los tres operadores booleanos?\n",
    "\n",
    "and (Operador de presencia) \n",
    "\n",
    "not ^ (Operador de exclusion)\n",
    "\n",
    "or  (OPerador de alternancia)\n",
    "\n",
    "\n"
   ]
  },
  {
   "cell_type": "markdown",
   "metadata": {},
   "source": [
    "* Escriba una rutina que genere todas las tablas de verdad de cada operador booleano (es decir, cada combinación posible de valores booleanos para cada  operador). A continuación se muestra un ejemplo para el operador or. booleanos = [False, True]"
   ]
  },
  {
   "cell_type": "code",
   "execution_count": 52,
   "metadata": {},
   "outputs": [
    {
     "name": "stdout",
     "output_type": "stream",
     "text": [
      "True True [True]\n",
      "True False [False]\n",
      "False True [False]\n",
      "False False [False]\n"
     ]
    }
   ],
   "source": [
    "#Tabla de Verdad operador AND\n",
    "\n",
    "X =[True, False]\n",
    "Y =[True, False]\n",
    "\n",
    "\n",
    "\n",
    "for i in X:\n",
    "    for j in Y:\n",
    "        print (i,j, [i and j])\n",
    "\n",
    "\n",
    " "
   ]
  },
  {
   "cell_type": "code",
   "execution_count": 53,
   "metadata": {},
   "outputs": [
    {
     "name": "stdout",
     "output_type": "stream",
     "text": [
      "True True [True]\n",
      "True False [True]\n",
      "False True [True]\n",
      "False False [False]\n"
     ]
    }
   ],
   "source": [
    "#Tabla de verdad operador OR\n",
    "\n",
    "for i in X:\n",
    "    for j in Y:\n",
    "        print (i,j, [i or j])\n",
    "\n"
   ]
  },
  {
   "cell_type": "code",
   "execution_count": 54,
   "metadata": {},
   "outputs": [
    {
     "name": "stdout",
     "output_type": "stream",
     "text": [
      "True True [False]\n",
      "True False [True]\n",
      "False True [True]\n",
      "False False [False]\n"
     ]
    }
   ],
   "source": [
    "#Tabla de verdad operador NOT\n",
    "\n",
    "for i in X:\n",
    "    for j in Y:\n",
    "        print (i,j, [i ^ j])\n"
   ]
  },
  {
   "cell_type": "markdown",
   "metadata": {},
   "source": [
    "* ¿Cuáles son los seis operadores de comparación?\n",
    "\n",
    "#### == (igual que)\n",
    "\n",
    "#### <  (menor que)\n",
    "\n",
    "#### >  (mayor que)\n",
    "\n",
    "#### <= (menor o igual que)\n",
    "\n",
    "#### >= (mayor o igual que)\n",
    "\n",
    "#### != (diferente que)\n",
    "\n",
    "\n",
    "* ¿Cuál es la diferencia entre el operador igual y el operador de asignación?\n",
    "\n",
    "El operador igual se usa para evaluar si dos variables son iguales, lo cual tiene como resultado solamente False o True.\n",
    "\n",
    "El operador de asignación se utiliza para asignar a una variable un valor y se expresa de la siguiente manera a = 0, le asignas a la variable a el numero 0.\n",
    "\n",
    "* Explique qué es una condición y dónde la usaría.\n",
    "\n",
    "Una condición es una sentencia en el codigo que si es verdadera se ejecuta el cuerpo del codigo, si el falsa no pasa nada.\n",
    "\n",
    "* ¿Qué puede hacer si su programa está atascado en un bucle infinito?\n",
    "\n",
    "a) Puedes usar las teclas ctrl+c y rompes el bucle infinito, pero puedes dañar el archivo que en donde rompiste el bucle.\n",
    "\n",
    "b) Para no dañar el archivo, puedes usar pkill -9 -f path/to/my_script.py, para editar y correr de nuevo el archivo .py\n",
    "\n",
    "* ¿Cuál es la diferencia entre romper y continuar?\n",
    "\n",
    "Romper es una sentencia para que el bucle o cuerpo del código se detenga segun una condición, y continuar es darle una sentencia al código paraque se siga ejecutando.\n",
    "\n",
    "\n"
   ]
  },
  {
   "cell_type": "markdown",
   "metadata": {},
   "source": [
    "* ¿Cuál es la diferencia entre rango (10), rango (0, 10) y rango (0, 10, 1) en un bucle for?\n"
   ]
  },
  {
   "cell_type": "code",
   "execution_count": 71,
   "metadata": {},
   "outputs": [],
   "source": [
    "a = range(10) # Es un rango de 10 números.\n",
    "\n"
   ]
  },
  {
   "cell_type": "code",
   "execution_count": 60,
   "metadata": {},
   "outputs": [],
   "source": [
    "b = range(0,10) #RANGO DE NÚMEROS QUE EMPIEZA EN 0 QUE ES LA POSICIÓN 1 Y TERMINA EN 9 QUE ES LA POSICIÓN 10\n"
   ]
  },
  {
   "cell_type": "code",
   "execution_count": 62,
   "metadata": {},
   "outputs": [],
   "source": [
    "C = range(0,10,1)# rango de números que empieza en 0 que es la posición 1 y termina en 9 que es la posicion 10, pero el 1 indica que son números que van de 1 en 1.\n",
    "\n"
   ]
  },
  {
   "cell_type": "markdown",
   "metadata": {},
   "source": [
    "\n",
    "* Escribe un programa corto que imprima los primeros \"N\" números y la suma de mismos \"N\" usando un bucle for. Luego escribe un programa equivalente que imprima los números del 1 al 10 usando un bucle while.\n",
    "\n"
   ]
  },
  {
   "cell_type": "code",
   "execution_count": 115,
   "metadata": {},
   "outputs": [
    {
     "name": "stdout",
     "output_type": "stream",
     "text": [
      "55\n"
     ]
    }
   ],
   "source": [
    "lista1 = [1,2,3,4,5,6,7,8,9,10]\n",
    "suma = 0\n",
    "for n in lista1:\n",
    "    #print (n)\n",
    "    suma = suma+n\n",
    "    #print (suma)\n",
    "\n",
    "print(suma)\n",
    "    "
   ]
  },
  {
   "cell_type": "code",
   "execution_count": 106,
   "metadata": {},
   "outputs": [
    {
     "name": "stdout",
     "output_type": "stream",
     "text": [
      "55\n"
     ]
    }
   ],
   "source": [
    "a = 1+2+3+4+5+6+7+8+9+10\n",
    "print(a)"
   ]
  },
  {
   "cell_type": "code",
   "execution_count": 132,
   "metadata": {},
   "outputs": [
    {
     "name": "stdout",
     "output_type": "stream",
     "text": [
      "1\n",
      "2\n",
      "3\n",
      "4\n",
      "5\n",
      "6\n",
      "7\n",
      "8\n",
      "9\n",
      "10\n"
     ]
    }
   ],
   "source": [
    "i = 0\n",
    "while i< len(lista1):\n",
    "    print (lista1[i])\n",
    "    i += 1  # es igual a i = i+1\n",
    "    "
   ]
  },
  {
   "cell_type": "markdown",
   "metadata": {},
   "source": [
    "* Un ciclo que imprima los primeros M números impares.\n",
    "\n"
   ]
  },
  {
   "cell_type": "code",
   "execution_count": 161,
   "metadata": {},
   "outputs": [
    {
     "name": "stdout",
     "output_type": "stream",
     "text": [
      "Introduzca valor del numero:  50\n",
      "1\n",
      "3\n",
      "5\n",
      "7\n",
      "9\n",
      "11\n",
      "13\n",
      "15\n",
      "17\n",
      "19\n",
      "21\n",
      "23\n",
      "25\n",
      "27\n",
      "29\n",
      "31\n",
      "33\n",
      "35\n",
      "37\n",
      "39\n",
      "41\n",
      "43\n",
      "45\n",
      "47\n",
      "49\n"
     ]
    }
   ],
   "source": [
    "n = int(input('Introduzca valor del numero:  '))\n",
    "\n",
    "A = range(n)\n",
    "for n in A:\n",
    "    if n % 2 != 0:       \n",
    "        print (n) \n",
    "        \n",
    "    \n",
    "    "
   ]
  },
  {
   "cell_type": "markdown",
   "metadata": {},
   "source": [
    "* Escriba un programa que calcule los primeros N términos de la serie de fibonacci.\n",
    "\n"
   ]
  },
  {
   "cell_type": "code",
   "execution_count": 2,
   "metadata": {},
   "outputs": [],
   "source": [
    "\n",
    "def fib(n):\n",
    "    f0 = 0\n",
    "    f1 = f0 + 1 \n",
    "    f2 = ((f0+2)-1) + ((f0+2)-2)\n",
    "    print (f2)\n",
    "    #fn = (n-1)+(n-2)\n",
    "    \n",
    "    #print (fn)"
   ]
  },
  {
   "cell_type": "code",
   "execution_count": 3,
   "metadata": {},
   "outputs": [
    {
     "name": "stdout",
     "output_type": "stream",
     "text": [
      "1\n"
     ]
    }
   ],
   "source": [
    "fib(10)"
   ]
  },
  {
   "cell_type": "markdown",
   "metadata": {},
   "source": [
    "* Escriba un programa que calcule el factorial de un número N."
   ]
  },
  {
   "cell_type": "code",
   "execution_count": null,
   "metadata": {},
   "outputs": [],
   "source": []
  }
 ],
 "metadata": {
  "kernelspec": {
   "display_name": "Python 3",
   "language": "python",
   "name": "python3"
  },
  "language_info": {
   "codemirror_mode": {
    "name": "ipython",
    "version": 3
   },
   "file_extension": ".py",
   "mimetype": "text/x-python",
   "name": "python",
   "nbconvert_exporter": "python",
   "pygments_lexer": "ipython3",
   "version": "3.6.7"
  }
 },
 "nbformat": 4,
 "nbformat_minor": 2
}
