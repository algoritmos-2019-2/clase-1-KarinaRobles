{
 "cells": [
  {
   "cell_type": "markdown",
   "metadata": {},
   "source": [
    "# El Cifrado de Julio César\n",
    "\n",
    "Durante sus campañas militares, el general romano Julio César escribía mensajes a sus subordinados de la siguiente forma:\n",
    "\n",
    "Sustituía cada letra del abecedario por la letra situada tres lugares más allá en el orden alfabético. Es decir, la letra A se convertiría en D; la B, en E; la C en F y así sucesivamente. Y del mismo modo para la cola: la X sería una A; la Y una B y la Z una C. En resumen, las letras se desplazan tres lugares en el orden alfabético.\n",
    "\n",
    "Por ejemplo, en lugar de escribir CENTURIA escribía FHPWXULD.\n",
    "\n",
    "\n",
    "## Práctica\n",
    "\n",
    "Escribe un script en Python que automatice el cifrado de Julio César. \n",
    "Tu programa debe cumplir las siguientes características:\n",
    "\n",
    "A) Debe leer un archivo de texto que contenga el mensaje por codificar y escribir un nuevo archivo de texto con el mensaje cifrado.\n",
    "\n",
    "B) El programa debe preguntar por cuántos espacios queremos deplazar las letras en nuestro mensaje. \n",
    "\n",
    "\n",
    "\n",
    "El mensaje a codificar puede incluir únicamente:\n",
    "\n",
    "A) Letras mayúsculas y minúsculas (sin acentos).\n",
    "\n",
    "B) Espacios.\n",
    "\n",
    "C) Saltos de línea.\n",
    "\n",
    "\n",
    "\n",
    "\n",
    "\n",
    "\n",
    "\n",
    "\n",
    "\n",
    "\n",
    "\n"
   ]
  },
  {
   "cell_type": "code",
   "execution_count": 147,
   "metadata": {},
   "outputs": [],
   "source": [
    "file = open(\"msjacodificar.txt\", \"w\")\n"
   ]
  },
  {
   "cell_type": "code",
   "execution_count": 148,
   "metadata": {},
   "outputs": [],
   "source": [
    "file.write(' quienes perseveran en esta busqueda descubren de pronto algo que esta mucho mas alla de lo inmediato')\n",
    "\n",
    "file.close()"
   ]
  },
  {
   "cell_type": "code",
   "execution_count": 158,
   "metadata": {},
   "outputs": [],
   "source": [
    "file = open(\"msjacodificar.txt\", \"r\") #leemos el archivo\n",
    "#a = print (file.readlines())\n",
    "text = file.read().strip() \n",
    "\n",
    "#  strip() ---- devuelve una copia de la cadena en la que se han eliminado \n",
    "#todos los caracteres desde el principio y el final de la cadena \n",
    "#(caracteres de espacios en blanco predeterminados).\n",
    "\n",
    "\n",
    "    "
   ]
  },
  {
   "cell_type": "code",
   "execution_count": 159,
   "metadata": {},
   "outputs": [
    {
     "data": {
      "text/plain": [
       "str"
      ]
     },
     "execution_count": 159,
     "metadata": {},
     "output_type": "execute_result"
    }
   ],
   "source": [
    "type(text)"
   ]
  },
  {
   "cell_type": "code",
   "execution_count": 160,
   "metadata": {},
   "outputs": [
    {
     "data": {
      "text/plain": [
       "'quienes perseveran en esta busqueda descubren de pronto algo que esta mucho mas alla de lo inmediato'"
      ]
     },
     "execution_count": 160,
     "metadata": {},
     "output_type": "execute_result"
    }
   ],
   "source": [
    "text"
   ]
  },
  {
   "cell_type": "code",
   "execution_count": 161,
   "metadata": {},
   "outputs": [],
   "source": [
    "#INTRODUCIMOS TEXTO A CIFRAR\n",
    "#texto = a\n",
    "\n",
    " \n",
    "texto= text\n"
   ]
  },
  {
   "cell_type": "code",
   "execution_count": 162,
   "metadata": {},
   "outputs": [
    {
     "name": "stdout",
     "output_type": "stream",
     "text": [
      "Valor de desplazamiento: 3\n",
      "texto cifrado:  txlhphv shuvhyhudp hp hvwd exvtxhgd ghvfxeuhp gh surpwr dñjr txh hvwd oxfkr odv dññd gh ñr lpohgldwr\n"
     ]
    }
   ],
   "source": [
    "#CREAMOS CADENA DE CARÁCTERES\n",
    " \n",
    "if texto == texto.upper(): #PARA MAYUSCULAS\n",
    "    abc=\"ABCDEFGHIJKLMNÑOPQRSTUVWXYZ\"\n",
    "else:\n",
    "    abc=\"abcdefghijklmnñopqrstuvwxyz\" #PARA MINUSCULAS\n",
    "\n",
    "#DEFINIMOS VALOR DE DESPLAZAMIENTO\n",
    "k=int (input (\"Valor de desplazamiento: \"))\n",
    " \n",
    "#CREAMOS LA CADENA \"cifrad\".\n",
    "cifrad=\"\"\n",
    " \n",
    "#REALIZAMOS CIFRADO.\n",
    "for c in texto:\n",
    "    if c in abc:\n",
    "        cifrad += abc[abc.index(c)+k%(len(abc))]   \n",
    "                       \n",
    "    else:\n",
    "        cifrad += c \n",
    "#VISUALIZAMOS TEXTO FINAL.\n",
    "                       \n",
    "print(\"texto cifrado: \",cifrad)"
   ]
  },
  {
   "cell_type": "code",
   "execution_count": 163,
   "metadata": {},
   "outputs": [],
   "source": [
    "a = cifrad"
   ]
  },
  {
   "cell_type": "code",
   "execution_count": 164,
   "metadata": {},
   "outputs": [
    {
     "data": {
      "text/plain": [
       "'txlhphv shuvhyhudp hp hvwd exvtxhgd ghvfxeuhp gh surpwr dñjr txh hvwd oxfkr odv dññd gh ñr lpohgldwr'"
      ]
     },
     "execution_count": 164,
     "metadata": {},
     "output_type": "execute_result"
    }
   ],
   "source": [
    "a"
   ]
  },
  {
   "cell_type": "code",
   "execution_count": 165,
   "metadata": {},
   "outputs": [],
   "source": [
    "file2 = open(\"msjCodificado.txt\", \"w\")"
   ]
  },
  {
   "cell_type": "code",
   "execution_count": 166,
   "metadata": {},
   "outputs": [],
   "source": [
    "file2.write(  a )\n",
    "\n",
    "file2.close()"
   ]
  },
  {
   "cell_type": "code",
   "execution_count": null,
   "metadata": {},
   "outputs": [],
   "source": []
  }
 ],
 "metadata": {
  "kernelspec": {
   "display_name": "Python 3",
   "language": "python",
   "name": "python3"
  },
  "language_info": {
   "codemirror_mode": {
    "name": "ipython",
    "version": 3
   },
   "file_extension": ".py",
   "mimetype": "text/x-python",
   "name": "python",
   "nbconvert_exporter": "python",
   "pygments_lexer": "ipython3",
   "version": "3.6.7"
  }
 },
 "nbformat": 4,
 "nbformat_minor": 2
}
