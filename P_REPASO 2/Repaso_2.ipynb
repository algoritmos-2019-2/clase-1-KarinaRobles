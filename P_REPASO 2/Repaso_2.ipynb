{
 "cells": [
  {
   "cell_type": "markdown",
   "metadata": {},
   "source": [
    "# Repaso 2\n",
    "\n",
    "## Algoritmos computacionales\n",
    "\n",
    "Resuelva los siguientes ejercicios. Elija los problemas que guste, cada problema vale 4 puntos.\n",
    "\n",
    "1. Escribe una función que reciba un número entre -9999999 y 9999999 y que regrese el mismo número pero en una cadena con formato rígido de 8 espacios. Por ejemplo, si el número proporcionado es ```3501```, el número que regresa es ```35010000```.\n",
    "    1. Haga una función que regrese el número anterior en orden invertido con el mismo formato rígido de ocho espacios. Es decir, si le proporcionamos ```3501```, el número que regresa es ```53010000```. \n",
    "    \n",
    "    Hint: Utilice la función anterior como primer paso. Si el número es negativo el signo debe tomase en cuenta y dejarlo a la izquierda.\n",
    "    2. Ahora haga una función que regrese la multiplicación de los dígitos distintos de cero. Es decir, si le proporcionamos ```3501```, el número que regresa es ```15``` que viene de multiplicar 3 por 5 y por 1. El número final debe llevar el mismo signo que el número original.\n",
    "\n",
    "\n",
    "\n",
    "\n",
    "   "
   ]
  },
  {
   "cell_type": "code",
   "execution_count": 14,
   "metadata": {},
   "outputs": [],
   "source": [
    "s = \"hola\"\n"
   ]
  },
  {
   "cell_type": "code",
   "execution_count": 15,
   "metadata": {},
   "outputs": [
    {
     "data": {
      "text/plain": [
       "'h'"
      ]
     },
     "execution_count": 15,
     "metadata": {},
     "output_type": "execute_result"
    }
   ],
   "source": [
    "s[0]"
   ]
  },
  {
   "cell_type": "code",
   "execution_count": 34,
   "metadata": {},
   "outputs": [],
   "source": [
    "def convert(n):\n",
    "    naux = str(n)\n",
    "    i = 0\n",
    "    size = len(naux)\n",
    "    while i<8-size:\n",
    "        naux = naux +\"0\"\n",
    "        i+=1\n",
    "    return naux"
   ]
  },
  {
   "cell_type": "code",
   "execution_count": 35,
   "metadata": {},
   "outputs": [
    {
     "data": {
      "text/plain": [
       "'50120000'"
      ]
     },
     "execution_count": 35,
     "metadata": {},
     "output_type": "execute_result"
    }
   ],
   "source": [
    "convert(5012)"
   ]
  },
  {
   "cell_type": "code",
   "execution_count": 39,
   "metadata": {},
   "outputs": [],
   "source": [
    "def invert(cade):\n",
    "    saux = [\"0\",\"0\",\"0\",\"0\",\"0\",\"0\",\"0\",\"0\"]\n",
    "    j = 0\n",
    "    for i in cade:\n",
    "        saux[j] = i\n",
    "        j = j + 1\n",
    "    saux.reverse()\n",
    "    aux = \"\"\n",
    "    for i in saux:\n",
    "        aux = aux + i\n",
    "    return aux"
   ]
  },
  {
   "cell_type": "code",
   "execution_count": 40,
   "metadata": {},
   "outputs": [],
   "source": [
    "a = invert('50120000')"
   ]
  },
  {
   "cell_type": "code",
   "execution_count": 41,
   "metadata": {},
   "outputs": [
    {
     "data": {
      "text/plain": [
       "'00002105'"
      ]
     },
     "execution_count": 41,
     "metadata": {},
     "output_type": "execute_result"
    }
   ],
   "source": [
    "a"
   ]
  },
  {
   "cell_type": "code",
   "execution_count": 5,
   "metadata": {},
   "outputs": [],
   "source": [
    "from pylab import *\n",
    "from numpy import *\n",
    "from scipy.integrate import *\n",
    "from matplotlib import animation\n",
    "from math import factorial\n",
    "%matplotlib inline"
   ]
  },
  {
   "cell_type": "code",
   "execution_count": 9,
   "metadata": {},
   "outputs": [],
   "source": [
    "def funcion_1(n):\n",
    "    numero = len(n) #numero es igual a la cantidad de cifras que tiene n\n",
    "    if numero ==(1.): #si el numero de cifras es 1, le agrega siete ceros, si es 2, le agrega seis ceros,etc. Hasta 8 cifras lo deja igual \n",
    "        print (\"0000000\"+str(n))\n",
    "    elif numero ==(2.): \n",
    "        print (\"000000\"+str(n)) \n",
    "    elif numero == (3.):\n",
    "        print (\"00000\"+str(n))\n",
    "    elif numero == (4.):\n",
    "        print (\"0000\"+str(n))\n",
    "    elif numero == (5.):\n",
    "        print (\"000\"+str(n))\n",
    "    elif numero ==(6.):\n",
    "        print (\"00\"+str(n))\n",
    "    elif numero ==(7.):\n",
    "        print (\"0\"+str(n))\n",
    "    elif numero ==(8.):\n",
    "        print (n)\n",
    "    else:\n",
    "        print (\"El numero > 9999999\")"
   ]
  },
  {
   "cell_type": "markdown",
   "metadata": {},
   "source": [
    "2. Se tiene una partícula con carga $q$ y masa $m$ que está en un campo magnético $\\vec B = B_0 \\hat k$. La fuerza sobre la partícula es $\\vec F = q \\vec v \\times \\vec B$.\n",
    "\n",
    "    1. Realice una función que obtenga la solución $x(t)$ y $y(t)$ con condición inicial $x(0)=0$, $y(0)=0$, $v_x(0)=v_{0x}$ y $v_y(0)=v_{0y}$ tales que $v ^2_{0x} + v ^2_{0y} =1$ donde $v _{0x}$ es un número aleatorio entre 0 y 1.\n",
    "\n",
    "    2. Realice la gráfica en el plano $(x,y)$ para 100 trayectorias posibles."
   ]
  },
  {
   "cell_type": "code",
   "execution_count": null,
   "metadata": {},
   "outputs": [],
   "source": [
    "def fun"
   ]
  },
  {
   "cell_type": "markdown",
   "metadata": {},
   "source": [
    "3. Realice una función que genere nombres de archivos con el siguiente formato: ```file_###.dat```, donde ```###``` es un número entre 0 y 999 que el usuario proporciona. Por ejemplo, supongamos que la función se llama ```generan_nombre(numero)``` y al utilizarla de la siguiente maneara ```genera_nombre(45)```proporciona el nombre de archivo: ```file_045.dat```.\n",
    "    1. Realice una función que proporciona un número aleatorio entre 0 y 999.\n",
    "    2. Utilice las dos funciones anteriores para generar 100 nombres de manera aleatoria. No importa si los nombres se repiten.\n",
    "    \n",
    "4. Realice una función que se llame ```mi_sinc(x,N_max=10)```, donde ```x``` es un número real y ```N_max``` es un entero que por default es 10. Esta función calcula la siguiente serie\n",
    "$$\n",
    "\\sum ^{N_{max}} _{n=0} \\frac{(-1)^n}{(2n+1)!} x^{2n} = 1-\\frac{x^2}{3!} + \\frac{x^4}{5!} - ...\n",
    "$$\n",
    "    1. Haga la gráfica de la serie anterior en el intervalo $x\\in [-5\\pi,5\\pi]$ con el valor de ```N_max``` que viene por default.\n",
    "    2. Ahora haga la gráfica de la función anterior en el mismo intervalo para $x$ pero ahora con ```N_max = 0,2,4,6,...,20``` y observe la evolución de la serie conforme se aumenta ```N_max```. (Todas las gráficas de este inciso deben estar en la misma gráfica)"
   ]
  },
  {
   "cell_type": "code",
   "execution_count": null,
   "metadata": {},
   "outputs": [],
   "source": []
  },
  {
   "cell_type": "code",
   "execution_count": null,
   "metadata": {},
   "outputs": [],
   "source": [
    "def funcion(b0,m,q):\n",
    "    def fuerza_l(u,t): #funcion ecuacion de movimiento\n",
    "        x,y,vx,vy = u[0],u[1],u[2],u[3]\n",
    "        dx=vx #la derivada de x es la velocidad en x\n",
    "        dy=vy #la derivada de y es la velocidad en y\n",
    "        dvx=(q/m)*b0*vy\n",
    "        dvy = (q/m)*b0*(-vx)\n",
    "        return [dx,dy,dvx,dvy]\n",
    "    \n",
    "    for i in range(100): \n",
    "        v0x=rand() #velocidad en x es un numero aleatorio de 0 a 1\n",
    "        v0y=sqrt(1-(v0x)**2)\n",
    "        cond_ini=[0,0,v0x,v0y]\n",
    "        t=linspace(0,10,300)\n",
    "        sol=odeint(fuerza_l,cond_ini,t) #la solucion de la ecuaciones con t y cond_ini\n",
    "        title('Soluciones movimiento',fontsize=20) \n",
    "        xlabel('$x$',fontsize=16)\n",
    "        ylabel('$y$',fontsize=16)\n",
    "        plot(sol[:,0],sol[:,1])\n",
    "    return \n",
    "funcion(2,1,1)"
   ]
  }
 ],
 "metadata": {
  "kernelspec": {
   "display_name": "Python 3",
   "language": "python",
   "name": "python3"
  },
  "language_info": {
   "codemirror_mode": {
    "name": "ipython",
    "version": 3
   },
   "file_extension": ".py",
   "mimetype": "text/x-python",
   "name": "python",
   "nbconvert_exporter": "python",
   "pygments_lexer": "ipython3",
   "version": "3.7.2"
  }
 },
 "nbformat": 4,
 "nbformat_minor": 1
}
