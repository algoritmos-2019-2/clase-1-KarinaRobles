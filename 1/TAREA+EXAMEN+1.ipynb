{
 "cells": [
  {
   "cell_type": "markdown",
   "metadata": {},
   "source": [
    "### Tarea examen 1.\n",
    "##### Kari\n",
    "### Instrucciones:\n",
    "Resuelva los siguientes ejercicios, y DADO QUE ES EL PRIMER EXAMEN, TIENE QUE COMENTAR MUY BREVEMENTE LAS LINEAS MAS IMPORTANTES DE SU CODIGO.El examen se hace en IPython Notebook y deberá entregarse en la carpeta compartida personalizada de Google Drive en la fecha indicada en la página de internet. Tome en cuenta que necesitará utilizar las librerías de pylab, matplotlib.\n"
   ]
  },
  {
   "cell_type": "markdown",
   "metadata": {},
   "source": [
    "### Ejercicio 1. \n",
    "\n",
    "Escriba una función que tenga como entrada un número de cualquier tipo y que a la salida proporcione el número de dígitos o cifras que tiene el número proporcionado. (Tome en cuenta que el número introducido puede ser positivo, negativo, complejo, etc.)\n",
    "\n",
    "\n"
   ]
  },
  {
   "cell_type": "code",
   "execution_count": 334,
   "metadata": {
    "collapsed": true
   },
   "outputs": [],
   "source": [
    "import math\n",
    "import scipy \n",
    "import pylab\n",
    "import matplotlib.pyplot \n",
    "from pylab import *\n",
    "%matplotlib inline"
   ]
  },
  {
   "cell_type": "code",
   "execution_count": null,
   "metadata": {
    "collapsed": true
   },
   "outputs": [],
   "source": []
  },
  {
   "cell_type": "code",
   "execution_count": 134,
   "metadata": {
    "collapsed": true
   },
   "outputs": [],
   "source": [
    "def mi_funcion1(numero): #ponemos nombre a la funcion junto con la variable numero con la que va a operar\n",
    "    a = str(numero) # hacemos el numero como una cadena \n",
    "    return len(a) #le pedimos que nos de el numero de digitos de la cadena a\n",
    "\n"
   ]
  },
  {
   "cell_type": "code",
   "execution_count": 135,
   "metadata": {},
   "outputs": [
    {
     "data": {
      "text/plain": [
       "2"
      ]
     },
     "execution_count": 135,
     "metadata": {},
     "output_type": "execute_result"
    }
   ],
   "source": [
    "mi_funcion1(10)"
   ]
  },
  {
   "cell_type": "markdown",
   "metadata": {},
   "source": [
    "### Ejercicio 2. \n",
    "\n",
    "Escriba una función que reciba un número entero que tenga exactamente 7 cifras y si no recibe dicho número que imprima el mensaje “Error en número introducido”."
   ]
  },
  {
   "cell_type": "code",
   "execution_count": 145,
   "metadata": {
    "collapsed": true
   },
   "outputs": [],
   "source": [
    "def funcion_cifras(numero):\n",
    "    a = str(numero)\n",
    "    b = len (a)\n",
    "    if b == len(range(1,8)): # con if le damos la condicion de que si el numero de elementos del numero antes ya formado cadena es igual a 7 digitos entonces nos mande el mensaje \"el numero tiene 7 cifras\" \n",
    "        print \"el numero tiene 7 cifras\"\n",
    "    if b < len(range(1,8)):  # pero si el numero de elementos de esta cadena es menos o mayor que 7 entonces nos mande el mensaje de error\n",
    "        print \"Error en número introducido\"\n",
    "    if b > len(range(1,8)):\n",
    "        print \"Error en número introducido\"\n",
    "  \n",
    "\n",
    "        "
   ]
  },
  {
   "cell_type": "code",
   "execution_count": 137,
   "metadata": {},
   "outputs": [
    {
     "name": "stdout",
     "output_type": "stream",
     "text": [
      "Error en número introducido\n"
     ]
    }
   ],
   "source": [
    "funcion_cifras(77775)"
   ]
  },
  {
   "cell_type": "markdown",
   "metadata": {},
   "source": [
    "### Ejercicio 3. \n",
    "\n",
    "Escriba una función que reciba tu número de cuenta de la UNAM y proporcione la suma simple de sus dígitos. Ejemplo:\n",
    "Número introducido: 015044818\n",
    "\n",
    "Suma = 0 + 1+ 5+0+4+4+8+1+8 = 31\n",
    "Número a regresar: 31\n",
    "\n",
    "Utilice esta función para que ahora se tenga una función que al final haga todas las sumas necesarias para que al final se proporcione sólo un dígito que deberá estar entre 0 y 9.\n"
   ]
  },
  {
   "cell_type": "code",
   "execution_count": 146,
   "metadata": {
    "collapsed": true
   },
   "outputs": [],
   "source": [
    "def num_cuenta(a):\n",
    "    suma= 0 #definimos suma\n",
    "    a = str(a)\n",
    "    for i in a: # empezamos un ciclo for para que repita la intruccion de suma += para la cadena de numeros que nosotros le estemos dando en este caso es el numero de cuenta\n",
    "        suma += int(i) #le damos la intruccion de que sume las i in a: que son los digitos de la cadena a\n",
    "    return suma"
   ]
  },
  {
   "cell_type": "code",
   "execution_count": 147,
   "metadata": {},
   "outputs": [
    {
     "data": {
      "text/plain": [
       "26"
      ]
     },
     "execution_count": 147,
     "metadata": {},
     "output_type": "execute_result"
    }
   ],
   "source": [
    "num_cuenta(313255250) "
   ]
  },
  {
   "cell_type": "code",
   "execution_count": 140,
   "metadata": {},
   "outputs": [
    {
     "ename": "SyntaxError",
     "evalue": "invalid syntax (<ipython-input-140-7907c9918ed9>, line 5)",
     "output_type": "error",
     "traceback": [
      "\u001b[1;36m  File \u001b[1;32m\"<ipython-input-140-7907c9918ed9>\"\u001b[1;36m, line \u001b[1;32m5\u001b[0m\n\u001b[1;33m    b = numpy.random (suma += (int(i)) #le damos la intruccion de que sume las i in a: que son los digitos de la cadena a\u001b[0m\n\u001b[1;37m                            ^\u001b[0m\n\u001b[1;31mSyntaxError\u001b[0m\u001b[1;31m:\u001b[0m invalid syntax\n"
     ]
    }
   ],
   "source": [
    "def num_cuenta(a):\n",
    "    suma= 0 #definimos suma\n",
    "    a = str(a)\n",
    "    for i in a: # empezamos un ciclo for para que repita la intruccion de suma += para la cadena de numeros que nosotros le estemos dando en este caso es el numero de cuenta\n",
    "        b = numpy.random (suma += (int(i)) #le damos la intruccion de que sume las i in a: que son los digitos de la cadena a\n",
    "        if b == len(range(0,10)): # con if le damos la condicion de que si el numero de elementos del numero antes ya formado cadena es igual a 9 digitos entonces nos mande el mensaje \"el numero tiene 9 cifras\" \n",
    "            print \"el numero tiene 9 cifras\"\n",
    "        if b <= len(range(1,10)):  # pero si el numero de elementos de esta cadena es menor o igual que 9 entonces nos mande el mensaje \"el numero tiene 9 cifras\"  \n",
    "            print \"el numero tiene 9 cifras\"\n",
    "        if b > len(range(1,10)): #pero si el numero es > que 9 entonces mande mensaje de error\n",
    "            print \"Error en número introducido\"\n",
    "\n",
    "        \n",
    "    return suma\n",
    "\n",
    "\n",
    "       "
   ]
  },
  {
   "cell_type": "code",
   "execution_count": 141,
   "metadata": {
    "collapsed": true
   },
   "outputs": [],
   "source": [
    "def num_cuenta(a):\n",
    "    suma= 0 #definimos suma\n",
    "    a = str(a)\n",
    "    x = rand()\n",
    "    for i in a: # empezamos un ciclo for para que repita la intruccion de suma += para la cadena de numeros que nosotros le estemos dando en este caso es el numero de cuenta\n",
    "        suma += int(i) #le damos la intruccion de que sume las i in a: que son los digitos de la cadena a\n",
    "    return suma\n"
   ]
  },
  {
   "cell_type": "markdown",
   "metadata": {},
   "source": [
    "### Ejercicio 4. \n",
    "\n",
    "Escribir una función que reciba una cadena y que a la salida regrese la cadena de forma invertida. Ejemplo:\n",
    "\n",
    "Cadena ingresada: Estoy aprobado\n",
    "\n",
    "Cadena de salida: odaborpa yotsE"
   ]
  },
  {
   "cell_type": "code",
   "execution_count": 142,
   "metadata": {},
   "outputs": [
    {
     "name": "stdout",
     "output_type": "stream",
     "text": [
      "): odaborpa yotsE\n"
     ]
    }
   ],
   "source": [
    "def kari_funcion():\n",
    "    cadena1=['Estoy aprobado :)'] #damos una cadena a la funcion con ''\n",
    "    print cadena1 [0][::-1] #ponemos toda la cadena en sentido inverso\n",
    "    \n",
    "\n",
    "kari_funcion()"
   ]
  },
  {
   "cell_type": "markdown",
   "metadata": {},
   "source": [
    "### Ejercicio 5. \n",
    "\n",
    "Definir una función **generar_n_caracteres()** que tome como entrada dos números n y m y dos caracteres x y z. El número n estará asociado con **x y m z**. La salida de la función debe ser una cadena que intercale los caracteres un mínimo de veces de n o m y la diferencia entre estos números sea el final de la cadena una la repetición de los caracteres asociados a n o m mas grande. Ejemplo: generar n caracteres(7,9, ”c”,”p”) A la salida deberá devolver ”cpcpcpcpcpcpcppp”.\n"
   ]
  },
  {
   "cell_type": "code",
   "execution_count": 143,
   "metadata": {
    "collapsed": true
   },
   "outputs": [],
   "source": [
    "def generar_n_caracteres(n,m,caracter1,caracter2): #definimos las funcion con dos numeros m y n y dos caracteres 1 y 2\n",
    "    a =  (n*caracter1+m*caracter2) # a es la suma del producto del primer numero con el primer caracter mas el segundo numero con el segundo caracter\n",
    "    list = a #definimoa a a como una lista\n",
    "    b = str (a) #realizamos la cadena de a con string\n",
    "    c = len (b) #obtenemos el numero de digitos que tiene la cadena b \n",
    "    \n",
    "    print ( b[0]+b[7]+b[1]+b[8]+b[2]+b[9]+b[3]+b[10]+b[4]+b[11]+b[5]+b[12]+b[6]+b[13]+b[14]+b[15]) #ponemos el primer caracter mas el segundo caracter y asi sucecivamente para que se intercalen\n",
    "    \n",
    "    #print a\n",
    "    #print b\n",
    "    #print c\n",
    "    \n",
    "    "
   ]
  },
  {
   "cell_type": "code",
   "execution_count": 144,
   "metadata": {},
   "outputs": [
    {
     "name": "stdout",
     "output_type": "stream",
     "text": [
      "cpcpcpcpcpcpcppp\n"
     ]
    }
   ],
   "source": [
    "generar_n_caracteres(7,9,'c','p')"
   ]
  },
  {
   "cell_type": "markdown",
   "metadata": {},
   "source": [
    "### Ejercicio 6. \n",
    "\n",
    "Realice una función que se llame **mi_sin**(x,*** Nmax*** =**10**), donde x es un número real y **N_max** es un entero que por default es **10**. Esta función calcula la siguiente serie\n",
    "\n",
    "$\\sum$ $\\frac{(-1)^n-1}{2n-1} x^{2n-1} = x- \\frac{x^3}{3} + \\frac{x^5}{5} - ...$\n",
    "\n",
    "(a) Haga la gráfica de la serie anterior en el intervalo x ∈ [−1π, 1π] con el valor de **N_max** que viene por default.\n",
    "\n",
    "(b) Ahora haga la gráfica de la función anterior en el mismo intervalo para $x$ pero ahora con **N_max** = **0,2,4,6,...,20** y observe la evolución de la serie conforme se aumenta **N_max**. (Todas las gráficas de este inciso deben estar en la misma figura.)"
   ]
  },
  {
   "cell_type": "code",
   "execution_count": 238,
   "metadata": {
    "collapsed": true
   },
   "outputs": [],
   "source": [
    "def mi_sin(x,N=10):\n",
    "    suma= 0. #definimos suma\n",
    "    for n in range(10): #hacemos un ciclo for para cada N en un rango de 0 a 10\n",
    "        suma +=  ((((-1)**n)-1)/((2*n)-1)) * (x**((2*n)-(1))) #definimos las suma como la funcion antes dada\n",
    "    return suma\n",
    "    "
   ]
  },
  {
   "cell_type": "code",
   "execution_count": 256,
   "metadata": {},
   "outputs": [
    {
     "data": {
      "text/plain": [
       "array([  1.30754418e+08,   9.25208386e+07,   6.50031112e+07,\n",
       "         4.53328896e+07,   3.13720594e+07,   2.15367698e+07,\n",
       "         1.46613789e+07,   9.89384726e+06,   6.61578065e+06,\n",
       "         4.38168478e+06,   2.87311137e+06,   1.86427532e+06,\n",
       "         1.19645388e+06,   7.59064579e+05,   4.75787253e+05,\n",
       "         2.94468133e+05,   1.79837828e+05,   1.08306181e+05,\n",
       "         6.42769257e+04,   3.75645305e+04,   2.16027946e+04,\n",
       "         1.22164586e+04,   6.78891879e+03,   3.70545011e+03,\n",
       "         1.98575104e+03,   1.04491025e+03,   5.40290500e+02,\n",
       "         2.75049156e+02,   1.38406523e+02,   6.93555817e+01,\n",
       "         3.50540164e+01,   1.82332778e+01,   1.00293629e+01,\n",
       "         6.00000000e+00,   3.96910855e+00,   2.89186050e+00,\n",
       "         2.27393929e+00,   1.88286949e+00,   1.60852970e+00,\n",
       "         1.39746616e+00,   1.22258597e+00,   1.06933143e+00,\n",
       "         9.29359885e-01,   7.97600309e-01,   6.70833333e-01,\n",
       "         5.46971778e-01,   4.24672753e-01,   3.03110196e-01,\n",
       "         1.81824391e-01,   6.06060862e-02,  -6.06060862e-02,\n",
       "        -1.81824391e-01,  -3.03110196e-01,  -4.24672753e-01,\n",
       "        -5.46971778e-01,  -6.70833333e-01,  -7.97600309e-01,\n",
       "        -9.29359885e-01,  -1.06933143e+00,  -1.22258597e+00,\n",
       "        -1.39746616e+00,  -1.60852970e+00,  -1.88286949e+00,\n",
       "        -2.27393929e+00,  -2.89186050e+00,  -3.96910855e+00,\n",
       "        -6.00000000e+00,  -1.00293629e+01,  -1.82332778e+01,\n",
       "        -3.50540164e+01,  -6.93555817e+01,  -1.38406523e+02,\n",
       "        -2.75049156e+02,  -5.40290500e+02,  -1.04491025e+03,\n",
       "        -1.98575104e+03,  -3.70545011e+03,  -6.78891879e+03,\n",
       "        -1.22164586e+04,  -2.16027946e+04,  -3.75645305e+04,\n",
       "        -6.42769257e+04,  -1.08306181e+05,  -1.79837828e+05,\n",
       "        -2.94468133e+05,  -4.75787253e+05,  -7.59064579e+05,\n",
       "        -1.19645388e+06,  -1.86427532e+06,  -2.87311137e+06,\n",
       "        -4.38168478e+06,  -6.61578065e+06,  -9.89384726e+06,\n",
       "        -1.46613789e+07,  -2.15367698e+07,  -3.13720594e+07,\n",
       "        -4.53328896e+07,  -6.50031112e+07,  -9.25208386e+07,\n",
       "        -1.30754418e+08])"
      ]
     },
     "execution_count": 256,
     "metadata": {},
     "output_type": "execute_result"
    }
   ],
   "source": [
    "x = linspace(-3,3,100) #pruebas de la funcion anterior para x en un dominio de -3 a 3\n",
    "(mi_sin(x,10))\n"
   ]
  },
  {
   "cell_type": "code",
   "execution_count": 251,
   "metadata": {
    "collapsed": true
   },
   "outputs": [],
   "source": [
    "#x = linspace(-pi,pi,100)\n",
    "#plot(x, [mi_sin(i) for i in x], color=\"orange\")\n",
    "#show()"
   ]
  },
  {
   "cell_type": "code",
   "execution_count": 252,
   "metadata": {
    "collapsed": true
   },
   "outputs": [],
   "source": [
    "def mi_sin2(x,N=2*range(10)): # definimos la nueva funcion como mi_sin2 en donde N solo toma valores 2*range(10), esto es que solo toma los numeros pares de 0 a 20\n",
    "    suma= 0. #definimos suma\n",
    "    for n in 2*range(10): \n",
    "        suma +=  ((((-1)**n)-1)/((2*n)-1)) * (x**((2*n)-(1))) \n",
    "    return suma"
   ]
  },
  {
   "cell_type": "code",
   "execution_count": 253,
   "metadata": {
    "collapsed": true
   },
   "outputs": [],
   "source": [
    "#x = linspace(-pi,pi,100)\n",
    "#plot(x, [mi_sin2(i) for i in x], color=\"blue\")\n",
    "#show()\n"
   ]
  },
  {
   "cell_type": "code",
   "execution_count": 254,
   "metadata": {},
   "outputs": [
    {
     "data": {
      "image/png": "[encoded data removed]",
      "text/plain": [
       "<matplotlib.figure.Figure at 0xd5dba90>"
      ]
     },
     "metadata": {},
     "output_type": "display_data"
    }
   ],
   "source": [
    "x = linspace(-pi,pi,100) # damos un dominio de las funciones anteriores de -pi a pi\n",
    "plot(x,[mi_sin2(i) for i in x], [mi_sin2(i) for i in x]) #dibujamos las dos funciones con su dominio x\n",
    "show()\n"
   ]
  },
  {
   "cell_type": "markdown",
   "metadata": {},
   "source": [
    "### Ejercicio 7.\n",
    "Realice las siguientes gráficas en el dominio $x$ ∈ [−1.5, 1.5] y $y$ ∈ [−1.5, 1.5]:\n",
    "\n",
    "(a) Dibuje con código de colores y en el plano xy la siguiente función potencial\n",
    "\n",
    "$V(x,y) = tan-1 (\\frac{y}{x}$)\n",
    "\n",
    "(b) En una figura aparte, dibuje el campo vectorial   $\\vec{f}(x, y) = −∇V$ .\n",
    "\n",
    "(c) En otra figura dibuje las lineas de campo asociadas a $\\vec{f}$\n",
    "\n",
    "(d) Ahora superponga las tres figuras anteriores en una gráfica.\n",
    "\n",
    "(e) ¿Qué puede decir de la conexión entre $V$ y $\\vec{f}$"
   ]
  },
  {
   "cell_type": "code",
   "execution_count": 364,
   "metadata": {},
   "outputs": [
    {
     "data": {
      "image/png": "[encoded data removed]",
      "text/plain": [
       "<matplotlib.figure.Figure at 0xc714320>"
      ]
     },
     "metadata": {},
     "output_type": "display_data"
    }
   ],
   "source": [
    "from mpl_toolkits.mplot3d import Axes3D\n",
    "fig = pylab.figure()\n",
    "ax = Axes3D(fig)\n",
    "x = linspace(-1.5,1.5,10)\n",
    "y=linspace(-1.5,1.5,10)\n",
    "z =numpy.arctan(y/x)\n",
    "title (ur\"Grafica de $arctan(y/x)$\")\n",
    "ax.plot(x,y,z)\n",
    "show()\n"
   ]
  },
  {
   "cell_type": "code",
   "execution_count": null,
   "metadata": {
    "collapsed": true
   },
   "outputs": [],
   "source": []
  }
 ],
 "metadata": {
  "kernelspec": {
   "display_name": "Python 3",
   "language": "python",
   "name": "python3"
  },
  "language_info": {
   "codemirror_mode": {
    "name": "ipython",
    "version": 3
   },
   "file_extension": ".py",
   "mimetype": "text/x-python",
   "name": "python",
   "nbconvert_exporter": "python",
   "pygments_lexer": "ipython3",
   "version": "3.7.2"
  }
 },
 "nbformat": 4,
 "nbformat_minor": 2
}
