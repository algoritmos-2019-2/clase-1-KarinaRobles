{
 "cells": [
  {
   "cell_type": "markdown",
   "metadata": {},
   "source": [
    "# <center>Red Neuronal</center>\n",
    "\n",
    "#### <center>Karina Robles Martínez</center>\n",
    "\n",
    "#### <center>Facultad de Ciencias</center>\n",
    "\n",
    "#### <center>Algoritmos Computacionales</center>\n",
    "\n",
    "\n",
    "\n",
    "\n",
    "\n",
    "\n"
   ]
  },
  {
   "cell_type": "code",
   "execution_count": 55,
   "metadata": {},
   "outputs": [],
   "source": [
    "import numpy as np \n",
    "\n",
    "import matplotlib.pyplot as plt\n",
    "\n"
   ]
  },
  {
   "cell_type": "code",
   "execution_count": 56,
   "metadata": {},
   "outputs": [],
   "source": [
    "# X = (horas dormidas, horas estudiadas), y = calificacion de una materia\n",
    "X = np.array(([2,5], [9,1], [6,10]), dtype=float)\n",
    "Y = np.array(([70], [50], [90]), dtype=float)\n"
   ]
  },
  {
   "cell_type": "code",
   "execution_count": 57,
   "metadata": {},
   "outputs": [
    {
     "data": {
      "text/plain": [
       "array([[ 2.,  5.],\n",
       "       [ 9.,  1.],\n",
       "       [ 6., 10.]])"
      ]
     },
     "execution_count": 57,
     "metadata": {},
     "output_type": "execute_result"
    }
   ],
   "source": [
    "X"
   ]
  },
  {
   "cell_type": "code",
   "execution_count": 58,
   "metadata": {},
   "outputs": [
    {
     "data": {
      "text/plain": [
       "array([[70.],\n",
       "       [50.],\n",
       "       [90.]])"
      ]
     },
     "execution_count": 58,
     "metadata": {},
     "output_type": "execute_result"
    }
   ],
   "source": [
    "Y"
   ]
  },
  {
   "cell_type": "code",
   "execution_count": 59,
   "metadata": {},
   "outputs": [
    {
     "name": "stdout",
     "output_type": "stream",
     "text": [
      "(3, 2) (3, 1)\n"
     ]
    }
   ],
   "source": [
    "print (X.shape, Y.shape)  #de cuanto es la matriz"
   ]
  },
  {
   "cell_type": "code",
   "execution_count": 60,
   "metadata": {},
   "outputs": [],
   "source": [
    "#Vamos a multiplicar la entrada de la neurona por el peso *la sinapsis nerviosa para cada capa\n",
    "\n",
    "#ENTRADA\n",
    "\n",
    "class Neural_Network(object):\n",
    "    def init (self):        \n",
    "        self.NumNeuronasInput = 2 #numero de neuronas de la capa de entrada\n",
    "        self.NumNeuronasOutput = 1 #numero de neuronas de la capa de salida\n",
    "        self.NumNeuronasHidden = 3  #numero de neuronas de la capa oculta\n",
    "        \n",
    "#PESOS\n",
    "\n",
    "#Vamos a definir los pesos de manera aleatoria  con random  y con rand:nos genera una matriz de valores aleatorios de 0 a 1\n",
    "#pesos W1 sera los que estan entre la capa de entrada y la capa oculta\n",
    "        \n",
    "        self.W1 = np.random.rand(self.NumNeuronasInput, self.NumNeuronasHidden)\n",
    "\n",
    "#pesos W2 seran los que estan entre la capa hidden y la de salida\n",
    "\n",
    "        self.W2 = np.random.rand(self.NumNeuronasHidden, self.NumNeuronasOutput)\n",
    "    \n",
    "#X es la matriz de entrada\n",
    "#W es la matriz de pesos\n",
    "#Z sera el resultado de actividad neuronal \n",
    "\n",
    "\n",
    "#PROPAGACION DE LA RED NEURONAL\n",
    "\n",
    "def avanzar (self,X):\n",
    "    \n",
    "    self.z2 = np.dot (X, self.W1)  #suma ponderada de XW1\n",
    "    \n",
    "    self.a2 = self.sigmoid(self.z2) #activacion de las neuronas de la capa 2\n",
    "    \n",
    "    self.z3 = np.dot(self.a2, self.W2)\n",
    "    \n",
    "    #resultado del todo este algoritmo va a ser calculado por la multiplicacion de la funcion sigmoid por la ultima suma ponderada de la capa 3 o capa de salida.\n",
    "\n",
    "    yS = self.sigmoid(self.z3)\n",
    "    \n",
    "    return yS\n",
    "\n",
    "\n",
    "    \n",
    "    \n",
    "    \n",
    "\n",
    "\n",
    "\n",
    "\n",
    "        \n"
   ]
  },
  {
   "cell_type": "code",
   "execution_count": 61,
   "metadata": {},
   "outputs": [],
   "source": [
    "def sigmoid(z):\n",
    "    #aplicar la activacion de la funcion sigmoide a un vector, escalar o matriz\n",
    "    return 1/(1+np.exp(-z))\n",
    "z = 1"
   ]
  },
  {
   "cell_type": "code",
   "execution_count": 62,
   "metadata": {},
   "outputs": [
    {
     "data": {
      "text/plain": [
       "[<matplotlib.lines.Line2D at 0x7fd20fca8208>]"
      ]
     },
     "execution_count": 62,
     "metadata": {},
     "output_type": "execute_result"
    },
    {
     "data": {
      "image/png": "[encoded data removed]",
      "text/plain": [
       "<Figure size 432x288 with 1 Axes>"
      ]
     },
     "metadata": {
      "needs_background": "light"
     },
     "output_type": "display_data"
    }
   ],
   "source": [
    "testInput = np.arange(-6,6,0.01)\n",
    "plt.plot(testInput, sigmoid(testInput), linewidth= 2)\n",
    "\n"
   ]
  },
  {
   "cell_type": "code",
   "execution_count": 63,
   "metadata": {},
   "outputs": [
    {
     "data": {
      "text/plain": [
       "0.9975273768433653"
      ]
     },
     "execution_count": 63,
     "metadata": {},
     "output_type": "execute_result"
    }
   ],
   "source": [
    "sigmoid(6)\n",
    "\n",
    "\n"
   ]
  },
  {
   "cell_type": "code",
   "execution_count": null,
   "metadata": {},
   "outputs": [],
   "source": []
  },
  {
   "cell_type": "markdown",
   "metadata": {},
   "source": [
    "CON ESTO EL ALGORITMO NOS AVIENTA RESULTADOS DE MANERA ALEATORIA SIN NINGUN PROCESO DE APRENDIZAJE, POR LO QUE TENEMOS QUE INVESTIGAR EL **ERROR** QUE HAY EN ESTE ALGORITMO EN BASE A UN RESULTADO QUE NOSOTROS YA TENGAMOS (por ejemplo dormir 2 hrs, estudiar 5 hrs y sacar 7 )\n"
   ]
  },
  {
   "cell_type": "markdown",
   "metadata": {},
   "source": [
    "EL CALCULO DE ESTE ERROR ES EL RESULTADO DESEADO **(Y)** - EL RESULTADO OBTENIDO POR EL ALGORITMO **(yS )** \n",
    "\n",
    "$ERROR = ((Y - yS)^2 )* \\frac{1}{2} $ \n",
    "\n",
    "\"COSTO RESPRESENTADO POR UNA J, para no tener un problema multidimensional se minimizara este costo de manera tal que el algoritmo aprenda a modificarlo pra que este sea minimo para esto utilizare la **derivacion parcial** para aquellas situaciones en las que sea mas de un costo\" y la **derivacion normal** para aquellas situaciones en donde sea un solo costo\n",
    "\n",
    "\n",
    "Es necesario minimizar el costo del error provocado por los pesos,para esto es necesario corregirlos por el descenso del grandiente entonces es necesario derivar el costo con respecto al peso dC/dW"
   ]
  },
  {
   "cell_type": "markdown",
   "metadata": {},
   "source": [
    "$ $"
   ]
  },
  {
   "cell_type": "markdown",
   "metadata": {},
   "source": [
    "$ \\frac{\\partial J}{\\partial\\dot W^2} = - ( Y - yS ) yS'$\n",
    "\n",
    "$ \\frac{\\partial J}{\\partial\\dot W^2} = - ( Y - yS ) F'(Z) Z'(W) $\n",
    "\n",
    "$ F'(Z) = \\frac{e^{-z}}{(1 + (e^{-z}))^2}$\n",
    "\n",
    "$ Z'(W) = A  ; $   valores de activacion\n",
    "\n",
    "\n",
    "$ Z^3 = A^2 W^2 $\n",
    "\n",
    "En el algoritmo queda :\n",
    "\n",
    "$ \\frac{\\partial J}{\\partial\\dot W^2} = (a^2)^T \\delta^3$\n",
    "\n",
    "$\\delta^3 = - (Y- yS) F'(z^3)$\n",
    "\n",
    "\n",
    "**LUEGO**\n",
    "\n",
    "\n",
    "VAMOS A CORREGIR DE LA CAPA OCULTA A LA PRIMERA CAPA :\n",
    "\n",
    "$ \\frac{\\partial J}{\\partial\\dot W^1} = X^T \\delta^2$\n",
    "\n",
    "\n",
    "$\\delta^2 = \\delta^3 (W^2)^T F'(z^2)$  \n",
    "\n",
    "\n",
    "DELTA3 * COSTOS OBTENIDOS ENTRE LA CAPA 2 Y LA CAPA DE SALIDA * LAFUNCION sigmoidePrima evaluada con los valores de la suma ponderada de la capa 2\n"
   ]
  },
  {
   "cell_type": "code",
   "execution_count": 64,
   "metadata": {},
   "outputs": [
    {
     "ename": "IndentationError",
     "evalue": "expected an indented block (<ipython-input-64-8e9965cfd7f9>, line 29)",
     "output_type": "error",
     "traceback": [
      "\u001b[0;36m  File \u001b[0;32m\"<ipython-input-64-8e9965cfd7f9>\"\u001b[0;36m, line \u001b[0;32m29\u001b[0m\n\u001b[0;31m    return np.exp(-z)/((1+np.exp(-z))**2)\u001b[0m\n\u001b[0m         ^\u001b[0m\n\u001b[0;31mIndentationError\u001b[0m\u001b[0;31m:\u001b[0m expected an indented block\n"
     ]
    }
   ],
   "source": [
    "\n",
    "#OBTENEMOS LA DERIVADA DE LA FUNCION SIGMOID\n",
    "\n",
    "def sigmoidPrima (self, X,Y):\n",
    "    \n",
    "    self.yS = self.forward(X) #valor de yS\n",
    "    \n",
    "    delta3 = np.multiply(-(Y - self.yS), self.sigmoidPrima(self.z3)) # delta3 = - ( Y - yS ) F'(Z) Z'(W) \n",
    "    \n",
    "    \n",
    "    #vamos a multiplicar la matriz de activacion transpuesta (.t) para que concuerden las dimensiones de las matrices \n",
    "    #valores de activacion con los valores de delta van a estar en la misma dimension\n",
    "    \n",
    "    \n",
    "    djdw2 = np.dot(self.a2.T, delta3) #hasta aqui logramos corregir de la ultima capa a la capa oculta\n",
    "    \n",
    "    \n",
    "    ## LUEGO\n",
    "    \n",
    "    delta2 = np.dot(delta3, self.W2.T)* self.sigmoidPrime(self.z2)\n",
    "    \n",
    "    djdw1 = np.dot(X.T, delta2)  #matriz entradas transpuesta por la multiplicacion del delta2\n",
    "    \n",
    "    return djw1, djw2\n",
    "    \n",
    "\n",
    "    def sigmoidPrime(z):\n",
    "    #Derivative of sigmoid function\n",
    "    return np.exp(-z)/((1+np.exp(-z))**2)\n",
    "\n"
   ]
  },
  {
   "cell_type": "code",
   "execution_count": 65,
   "metadata": {},
   "outputs": [
    {
     "ename": "TypeError",
     "evalue": "sigmoidPrima() missing 2 required positional arguments: 'X' and 'Y'",
     "output_type": "error",
     "traceback": [
      "\u001b[0;31m---------------------------------------------------------------------------\u001b[0m",
      "\u001b[0;31mTypeError\u001b[0m                                 Traceback (most recent call last)",
      "\u001b[0;32m<ipython-input-65-33efcf4d723d>\u001b[0m in \u001b[0;36m<module>\u001b[0;34m\u001b[0m\n\u001b[1;32m      1\u001b[0m \u001b[0mtestValues\u001b[0m \u001b[0;34m=\u001b[0m \u001b[0mnp\u001b[0m\u001b[0;34m.\u001b[0m\u001b[0marange\u001b[0m\u001b[0;34m(\u001b[0m\u001b[0;34m-\u001b[0m\u001b[0;36m5\u001b[0m\u001b[0;34m,\u001b[0m\u001b[0;36m5\u001b[0m\u001b[0;34m,\u001b[0m\u001b[0;36m0.01\u001b[0m\u001b[0;34m)\u001b[0m\u001b[0;34m\u001b[0m\u001b[0;34m\u001b[0m\u001b[0m\n\u001b[1;32m      2\u001b[0m \u001b[0mplt\u001b[0m\u001b[0;34m.\u001b[0m\u001b[0mplot\u001b[0m\u001b[0;34m(\u001b[0m\u001b[0mtestValues\u001b[0m\u001b[0;34m,\u001b[0m \u001b[0msigmoid\u001b[0m\u001b[0;34m(\u001b[0m\u001b[0mtestValues\u001b[0m\u001b[0;34m)\u001b[0m\u001b[0;34m,\u001b[0m \u001b[0mlinewidth\u001b[0m\u001b[0;34m=\u001b[0m\u001b[0;36m2\u001b[0m\u001b[0;34m)\u001b[0m\u001b[0;34m\u001b[0m\u001b[0;34m\u001b[0m\u001b[0m\n\u001b[0;32m----> 3\u001b[0;31m \u001b[0mplt\u001b[0m\u001b[0;34m.\u001b[0m\u001b[0mplot\u001b[0m\u001b[0;34m(\u001b[0m\u001b[0mtestValues\u001b[0m\u001b[0;34m,\u001b[0m \u001b[0msigmoidPrima\u001b[0m\u001b[0;34m(\u001b[0m\u001b[0mtestValues\u001b[0m\u001b[0;34m)\u001b[0m\u001b[0;34m,\u001b[0m \u001b[0mlinewidth\u001b[0m\u001b[0;34m=\u001b[0m\u001b[0;36m2\u001b[0m\u001b[0;34m)\u001b[0m\u001b[0;34m\u001b[0m\u001b[0;34m\u001b[0m\u001b[0m\n\u001b[0m\u001b[1;32m      4\u001b[0m \u001b[0;34m\u001b[0m\u001b[0m\n\u001b[1;32m      5\u001b[0m \u001b[0mlegend\u001b[0m\u001b[0;34m(\u001b[0m\u001b[0;34m[\u001b[0m\u001b[0;34m'sigmoid'\u001b[0m\u001b[0;34m,\u001b[0m \u001b[0;34m'sigmoidPrima'\u001b[0m\u001b[0;34m]\u001b[0m\u001b[0;34m)\u001b[0m\u001b[0;34m\u001b[0m\u001b[0;34m\u001b[0m\u001b[0m\n",
      "\u001b[0;31mTypeError\u001b[0m: sigmoidPrima() missing 2 required positional arguments: 'X' and 'Y'"
     ]
    },
    {
     "data": {
      "image/png": "[encoded data removed]",
      "text/plain": [
       "<Figure size 432x288 with 1 Axes>"
      ]
     },
     "metadata": {
      "needs_background": "light"
     },
     "output_type": "display_data"
    }
   ],
   "source": [
    "testValues = np.arange(-5,5,0.01)\n",
    "plt.plot(testValues, sigmoid(testValues), linewidth=2)\n",
    "plt.plot(testValues, sigmoidPrima(testValues), linewidth=2)\n",
    "\n",
    "legend(['sigmoid', 'sigmoidPrima'])"
   ]
  },
  {
   "cell_type": "markdown",
   "metadata": {},
   "source": [
    "* COMPROBAR LOS GRADIENTES CALCULADOS ANTES"
   ]
  },
  {
   "cell_type": "markdown",
   "metadata": {},
   "source": [
    "* GRAFICAR HORAS DORMIDAS CONTRA HORAS ESTUDIADAS Y CALIFICACION OBTENIDA"
   ]
  },
  {
   "cell_type": "code",
   "execution_count": null,
   "metadata": {},
   "outputs": [],
   "source": []
  }
 ],
 "metadata": {
  "kernelspec": {
   "display_name": "Python 3",
   "language": "python",
   "name": "python3"
  },
  "language_info": {
   "codemirror_mode": {
    "name": "ipython",
    "version": 3
   },
   "file_extension": ".py",
   "mimetype": "text/x-python",
   "name": "python",
   "nbconvert_exporter": "python",
   "pygments_lexer": "ipython3",
   "version": "3.6.7"
  }
 },
 "nbformat": 4,
 "nbformat_minor": 2
}
