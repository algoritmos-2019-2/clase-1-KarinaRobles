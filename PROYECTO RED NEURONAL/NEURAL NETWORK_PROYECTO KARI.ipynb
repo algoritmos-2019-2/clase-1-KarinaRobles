{
 "cells": [
  {
   "cell_type": "markdown",
   "metadata": {},
   "source": [
    "# <center>Red Neuronal</center>\n",
    "\n",
    "#### <center>Karina Robles Martínez</center>\n",
    "\n",
    "#### <center>Facultad de Ciencias</center>\n",
    "\n",
    "#### <center>Algoritmos Computacionales</center>\n",
    "\n",
    "\n",
    "\n",
    "\n",
    "\n",
    "\n"
   ]
  },
  {
   "cell_type": "code",
   "execution_count": null,
   "metadata": {},
   "outputs": [],
   "source": []
  }
 ],
 "metadata": {
  "kernelspec": {
   "display_name": "Python 3",
   "language": "python",
   "name": "python3"
  },
  "language_info": {
   "codemirror_mode": {
    "name": "ipython",
    "version": 3
   },
   "file_extension": ".py",
   "mimetype": "text/x-python",
   "name": "python",
   "nbconvert_exporter": "python",
   "pygments_lexer": "ipython3",
   "version": "3.6.7"
  }
 },
 "nbformat": 4,
 "nbformat_minor": 2
}
